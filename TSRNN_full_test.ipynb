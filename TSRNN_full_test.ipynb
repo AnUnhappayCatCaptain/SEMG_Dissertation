{
 "cells": [
  {
   "cell_type": "code",
   "execution_count": 1,
   "metadata": {},
   "outputs": [
    {
     "name": "stderr",
     "output_type": "stream",
     "text": [
      "/home/mlvm2/anaconda2/lib/python2.7/site-packages/h5py/__init__.py:36: FutureWarning: Conversion of the second argument of issubdtype from `float` to `np.floating` is deprecated. In future, it will be treated as `np.float64 == np.dtype(float).type`.\n",
      "  from ._conv import register_converters as _register_converters\n",
      "Using TensorFlow backend.\n"
     ]
    }
   ],
   "source": [
    "# -------------------------------------------------\n",
    "# Initially Import.\n",
    "# -------------------------------------------------\n",
    "\n",
    "import numpy as np\n",
    "import matplotlib,pylab as plt\n",
    "import tensorflow as tf\n",
    "import keras\n",
    "from scipy.io import loadmat \n",
    "\n",
    "from keras.layers import Input, Dense, Activation, Embedding, LSTM, Flatten\n",
    "\n",
    "from keras.models import Model, Sequential\n",
    "from keras.utils import np_utils"
   ]
  },
  {
   "cell_type": "code",
   "execution_count": 2,
   "metadata": {},
   "outputs": [],
   "source": [
    "dataset = loadmat('detop_exp01_subj22_Sess1_003.mat')"
   ]
  },
  {
   "cell_type": "code",
   "execution_count": 3,
   "metadata": {},
   "outputs": [
    {
     "data": {
      "text/plain": [
       "(125, 105561)"
      ]
     },
     "execution_count": 3,
     "metadata": {},
     "output_type": "execute_result"
    }
   ],
   "source": [
    "labels = dataset['glove'][0]\n",
    "signals = dataset['emg'][0:125]\n",
    "signals.shape"
   ]
  },
  {
   "cell_type": "code",
   "execution_count": 4,
   "metadata": {},
   "outputs": [
    {
     "data": {
      "text/plain": [
       "(125, 10556)"
      ]
     },
     "execution_count": 4,
     "metadata": {},
     "output_type": "execute_result"
    }
   ],
   "source": [
    "cut_num = len(signals[0])%40\n",
    "cut_signals = np.delete(signals, 105560, axis = 1)\n",
    "signal_process1 = np.zeros(shape = [cut_signals.shape[0], int(cut_signals.shape[1] / 10)])\n",
    "for channels in range(0, cut_signals.shape[0]):\n",
    "    process1 = np.zeros(int(cut_signals.shape[1] / 10))\n",
    "    for i in range(0, int(cut_signals.shape[1])/ 10):\n",
    "        for j in range(0, 10):\n",
    "            process1[i] = process1[i] + abs(cut_signals[channels, 10 * i + j])\n",
    "        process1[i] = process1[i] / 10\n",
    "    for i in range(0, int(cut_signals.shape[1] / 10)):\n",
    "        signal_process1[channels][i] = process1[i]\n",
    "signal_process1.shape"
   ]
  },
  {
   "cell_type": "code",
   "execution_count": 5,
   "metadata": {},
   "outputs": [
    {
     "data": {
      "text/plain": [
       "(125, 2639, 4)"
      ]
     },
     "execution_count": 5,
     "metadata": {},
     "output_type": "execute_result"
    }
   ],
   "source": [
    "signal_process2 = np.zeros(shape = [125, 10556/4, 4])\n",
    "for channel in range(0,125):\n",
    "    for i in range(0, 10556/4):\n",
    "        for j in range(0,4):\n",
    "            signal_process2[channel, i, j] = signal_process1[channel, i*4+j]\n",
    "signal_process2.shape           "
   ]
  },
  {
   "cell_type": "code",
   "execution_count": 6,
   "metadata": {
    "scrolled": true
   },
   "outputs": [
    {
     "data": {
      "text/plain": [
       "array([[[ 1.20921202,  1.15481627,  2.46420519,  1.65032517],\n",
       "        [ 3.07847293,  1.49823452,  2.76395455,  0.78604123],\n",
       "        [ 0.71887477,  1.10290559,  1.57797127,  1.08149899],\n",
       "        ...,\n",
       "        [ 1.03265313,  1.15280762,  2.37538451,  1.94509994],\n",
       "        [ 1.59060249,  2.5618382 ,  0.84205828,  1.72905756],\n",
       "        [ 1.08292333,  1.21167646,  2.48673645,  4.42009887]],\n",
       "\n",
       "       [[ 0.66967047,  1.17740866,  3.11660575,  1.41147964],\n",
       "        [ 2.13576875,  1.41450439,  2.43000725,  1.24950731],\n",
       "        [ 0.85467569,  1.24127104,  1.32290949,  0.47798139],\n",
       "        ...,\n",
       "        [ 1.31793093,  2.40718201,  2.60364704,  1.93665233],\n",
       "        [ 1.91706916,  3.08132798,  0.86325966,  1.33942586],\n",
       "        [ 0.82682961,  1.11562414,  3.46732081,  5.01768108]],\n",
       "\n",
       "       [[ 1.34295894,  1.75569876,  1.53594696,  2.0267392 ],\n",
       "        [ 2.92254957,  1.10506055,  1.97370492,  1.06025859],\n",
       "        [ 1.10997919,  0.81220535,  1.05415739,  1.20404779],\n",
       "        ...,\n",
       "        [ 1.44242784,  2.06922689,  2.57226182,  1.85866016],\n",
       "        [ 1.86764057,  3.33225715,  1.15833242,  1.72903818],\n",
       "        [ 0.52190267,  0.65246438,  2.75609052,  4.90654662]],\n",
       "\n",
       "       ...,\n",
       "\n",
       "       [[ 0.67232383,  1.82814133,  3.7391714 ,  0.60717308],\n",
       "        [ 0.83238005,  3.16265837,  1.55735068,  1.33893454],\n",
       "        [ 1.64474789,  1.05790944,  0.87257349,  2.15872858],\n",
       "        ...,\n",
       "        [ 2.28066033,  1.98087232,  3.1622483 ,  4.15824579],\n",
       "        [ 0.9998257 ,  3.59867511,  2.86455565,  2.38957811],\n",
       "        [ 1.80343454,  1.95296561,  2.64060838, 11.91442227]],\n",
       "\n",
       "       [[ 1.48035217,  1.55159099,  3.6111266 ,  1.20103717],\n",
       "        [ 1.19278371,  2.66184743,  1.86991447,  1.36268282],\n",
       "        [ 1.82726183,  2.15138079,  0.98359324,  1.78258523],\n",
       "        ...,\n",
       "        [ 2.06556268,  1.06442121,  1.75193613,  3.97931564],\n",
       "        [ 1.64842868,  3.06564109,  1.76460597,  2.56109178],\n",
       "        [ 1.86401607,  1.72476555,  3.0435326 , 10.30890337]],\n",
       "\n",
       "       [[ 1.19233316,  1.86975962,  4.01149515,  1.55462078],\n",
       "        [ 1.67914073,  1.89595555,  1.45350224,  1.21731471],\n",
       "        [ 0.96700588,  1.62280764,  1.43237223,  2.25327541],\n",
       "        ...,\n",
       "        [ 2.25888564,  1.58536313,  2.10214594,  4.55892344],\n",
       "        [ 1.57480237,  3.27385663,  1.69332665,  2.47511184],\n",
       "        [ 1.58691397,  1.10959792,  2.99002349,  9.84721247]]])"
      ]
     },
     "execution_count": 6,
     "metadata": {},
     "output_type": "execute_result"
    }
   ],
   "source": [
    "signal_process2"
   ]
  },
  {
   "cell_type": "code",
   "execution_count": 7,
   "metadata": {},
   "outputs": [],
   "source": [
    "signal_input  = signal_process2.copy()\n",
    "signal_input_final = np.zeros(shape = [2639, 125, 4])\n",
    "for i in range(0, 2639):\n",
    "    for j in range(0, 125):\n",
    "        for k in range(0, 4):\n",
    "            signal_input_final[i,j,k] = signal_input[j,i,k]"
   ]
  },
  {
   "cell_type": "code",
   "execution_count": 8,
   "metadata": {
    "scrolled": true
   },
   "outputs": [
    {
     "data": {
      "text/plain": [
       "array([[[ 1.20921202,  1.15481627,  2.46420519,  1.65032517],\n",
       "        [ 0.66967047,  1.17740866,  3.11660575,  1.41147964],\n",
       "        [ 1.34295894,  1.75569876,  1.53594696,  2.0267392 ],\n",
       "        ...,\n",
       "        [ 0.67232383,  1.82814133,  3.7391714 ,  0.60717308],\n",
       "        [ 1.48035217,  1.55159099,  3.6111266 ,  1.20103717],\n",
       "        [ 1.19233316,  1.86975962,  4.01149515,  1.55462078]],\n",
       "\n",
       "       [[ 3.07847293,  1.49823452,  2.76395455,  0.78604123],\n",
       "        [ 2.13576875,  1.41450439,  2.43000725,  1.24950731],\n",
       "        [ 2.92254957,  1.10506055,  1.97370492,  1.06025859],\n",
       "        ...,\n",
       "        [ 0.83238005,  3.16265837,  1.55735068,  1.33893454],\n",
       "        [ 1.19278371,  2.66184743,  1.86991447,  1.36268282],\n",
       "        [ 1.67914073,  1.89595555,  1.45350224,  1.21731471]],\n",
       "\n",
       "       [[ 0.71887477,  1.10290559,  1.57797127,  1.08149899],\n",
       "        [ 0.85467569,  1.24127104,  1.32290949,  0.47798139],\n",
       "        [ 1.10997919,  0.81220535,  1.05415739,  1.20404779],\n",
       "        ...,\n",
       "        [ 1.64474789,  1.05790944,  0.87257349,  2.15872858],\n",
       "        [ 1.82726183,  2.15138079,  0.98359324,  1.78258523],\n",
       "        [ 0.96700588,  1.62280764,  1.43237223,  2.25327541]],\n",
       "\n",
       "       ...,\n",
       "\n",
       "       [[ 1.03265313,  1.15280762,  2.37538451,  1.94509994],\n",
       "        [ 1.31793093,  2.40718201,  2.60364704,  1.93665233],\n",
       "        [ 1.44242784,  2.06922689,  2.57226182,  1.85866016],\n",
       "        ...,\n",
       "        [ 2.28066033,  1.98087232,  3.1622483 ,  4.15824579],\n",
       "        [ 2.06556268,  1.06442121,  1.75193613,  3.97931564],\n",
       "        [ 2.25888564,  1.58536313,  2.10214594,  4.55892344]],\n",
       "\n",
       "       [[ 1.59060249,  2.5618382 ,  0.84205828,  1.72905756],\n",
       "        [ 1.91706916,  3.08132798,  0.86325966,  1.33942586],\n",
       "        [ 1.86764057,  3.33225715,  1.15833242,  1.72903818],\n",
       "        ...,\n",
       "        [ 0.9998257 ,  3.59867511,  2.86455565,  2.38957811],\n",
       "        [ 1.64842868,  3.06564109,  1.76460597,  2.56109178],\n",
       "        [ 1.57480237,  3.27385663,  1.69332665,  2.47511184]],\n",
       "\n",
       "       [[ 1.08292333,  1.21167646,  2.48673645,  4.42009887],\n",
       "        [ 0.82682961,  1.11562414,  3.46732081,  5.01768108],\n",
       "        [ 0.52190267,  0.65246438,  2.75609052,  4.90654662],\n",
       "        ...,\n",
       "        [ 1.80343454,  1.95296561,  2.64060838, 11.91442227],\n",
       "        [ 1.86401607,  1.72476555,  3.0435326 , 10.30890337],\n",
       "        [ 1.58691397,  1.10959792,  2.99002349,  9.84721247]]])"
      ]
     },
     "execution_count": 8,
     "metadata": {},
     "output_type": "execute_result"
    }
   ],
   "source": [
    "signal_input_final"
   ]
  },
  {
   "cell_type": "code",
   "execution_count": 17,
   "metadata": {},
   "outputs": [
    {
     "name": "stderr",
     "output_type": "stream",
     "text": [
      "/home/mlvm2/anaconda2/lib/python2.7/site-packages/ipykernel_launcher.py:1: DeprecationWarning: in the future out of bounds indices will raise an error instead of being ignored by `numpy.delete`.\n",
      "  \"\"\"Entry point for launching an IPython kernel.\n"
     ]
    }
   ],
   "source": [
    "cut_labels = np.delete(labels, [len(labels) - cut_num, len(labels)])\n",
    "\n",
    "labels_process1 = np.zeros(int(len(cut_labels)/240))\n",
    "\n",
    "for i in range(int(len(cut_labels)/240)):\n",
    "    labels_process1[i] = labels[i*240]\n",
    "\n",
    "labels_process2 = labels_process1.copy()\n",
    "signal_process3 = signal_input_final.copy()\n",
    "#cal = 0\n",
    "\n",
    "#for i in range(0, 2639):\n",
    "#    if labels_process1[i] > 1 or labels_process1[i] < 0.1:\n",
    "#        labels_process2 = np.delete(labels_process2, i-cal, axis = 0)\n",
    "#        signal_process3 = np.delete(signal_process3, i-cal, axis = 0)\n",
    "#        cal = cal + 1"
   ]
  },
  {
   "cell_type": "code",
   "execution_count": 18,
   "metadata": {},
   "outputs": [
    {
     "data": {
      "text/plain": [
       "(2639, 125, 4)"
      ]
     },
     "execution_count": 18,
     "metadata": {},
     "output_type": "execute_result"
    }
   ],
   "source": [
    "signal_process3.shape"
   ]
  },
  {
   "cell_type": "code",
   "execution_count": 21,
   "metadata": {},
   "outputs": [
    {
     "data": {
      "image/png": "[encoded data removed]",
      "text/plain": [
       "<Figure size 432x288 with 1 Axes>"
      ]
     },
     "metadata": {},
     "output_type": "display_data"
    }
   ],
   "source": [
    "time = np.zeros(439)\n",
    "\n",
    "for i in range(0, 439):\n",
    "    time[i] = float(i)/2048*240\n",
    "    \n",
    "plt.plot(time, labels_process2)\n",
    "plt.show()"
   ]
  },
  {
   "cell_type": "code",
   "execution_count": 22,
   "metadata": {},
   "outputs": [],
   "source": [
    "t_s_x = signal_process3\n",
    "t_s_angles = labels_process2"
   ]
  },
  {
   "cell_type": "code",
   "execution_count": 23,
   "metadata": {},
   "outputs": [],
   "source": [
    "t_s_x = np.delete(t_s_x, [2634, 2635, 2636, 2637, 2638], axis = 0)"
   ]
  },
  {
   "cell_type": "code",
   "execution_count": 36,
   "metadata": {},
   "outputs": [
    {
     "data": {
      "text/plain": [
       "(439, 6, 125, 4)"
      ]
     },
     "execution_count": 36,
     "metadata": {},
     "output_type": "execute_result"
    }
   ],
   "source": [
    "t_s_x.shape"
   ]
  },
  {
   "cell_type": "code",
   "execution_count": 62,
   "metadata": {},
   "outputs": [],
   "source": [
    "t_s_x = t_s_x.reshape(439, 6, 125*4)"
   ]
  },
  {
   "cell_type": "code",
   "execution_count": 63,
   "metadata": {},
   "outputs": [
    {
     "data": {
      "text/plain": [
       "(439, 6, 500)"
      ]
     },
     "execution_count": 63,
     "metadata": {},
     "output_type": "execute_result"
    }
   ],
   "source": [
    "t_s_x.shape"
   ]
  },
  {
   "cell_type": "code",
   "execution_count": 64,
   "metadata": {},
   "outputs": [],
   "source": [
    "#permutation = np.random.permutation(t_s_angles.shape[0])\n",
    "#shuffled_t_s_x = t_s_x[permutation, :]\n",
    "#shuffled_t_s_angles = t_s_angles[permutation]\n",
    "train_t_s_x = t_s_x[0:400]\n",
    "train_t_s_angles = t_s_angles[0:400]\n",
    "test_t_s_x = t_s_x[400:]\n",
    "test_t_s_angles = t_s_angles[400:]"
   ]
  },
  {
   "cell_type": "code",
   "execution_count": 69,
   "metadata": {},
   "outputs": [],
   "source": [
    "# --------------------------------------------------------\n",
    "# keras model.\n",
    "# --------------------------------------------------------\n",
    "\n",
    "tsrnnmodel = Sequential()\n",
    "tsrnnmodel.add(Dense(6, activation = 'relu', input_shape = [6, 500]))\n",
    "tsrnnmodel.add(LSTM(6, kernel_regularizer = keras.regularizers.l2(0.02)))\n",
    "tsrnnmodel.add(Dense(6, activation = 'relu'))\n",
    "tsrnnmodel.add(Dense(1))\n",
    "tsrnnmodel.compile(loss = 'mean_squared_error', optimizer = 'adam')"
   ]
  },
  {
   "cell_type": "code",
   "execution_count": 70,
   "metadata": {},
   "outputs": [
    {
     "name": "stdout",
     "output_type": "stream",
     "text": [
      "_________________________________________________________________\n",
      "Layer (type)                 Output Shape              Param #   \n",
      "=================================================================\n",
      "dense_27 (Dense)             (None, 6, 6)              3006      \n",
      "_________________________________________________________________\n",
      "lstm_15 (LSTM)               (None, 6)                 312       \n",
      "_________________________________________________________________\n",
      "dense_28 (Dense)             (None, 6)                 42        \n",
      "_________________________________________________________________\n",
      "dense_29 (Dense)             (None, 1)                 7         \n",
      "=================================================================\n",
      "Total params: 3,367\n",
      "Trainable params: 3,367\n",
      "Non-trainable params: 0\n",
      "_________________________________________________________________\n"
     ]
    }
   ],
   "source": [
    "tsrnnmodel.summary()"
   ]
  },
  {
   "cell_type": "code",
   "execution_count": 71,
   "metadata": {
    "scrolled": true
   },
   "outputs": [
    {
     "name": "stdout",
     "output_type": "stream",
     "text": [
      "Epoch 1/40\n",
      " - 1s - loss: 0.3714\n",
      "Epoch 2/40\n",
      " - 0s - loss: 0.3268\n",
      "Epoch 3/40\n",
      " - 0s - loss: 0.2918\n",
      "Epoch 4/40\n",
      " - 0s - loss: 0.2681\n",
      "Epoch 5/40\n",
      " - 0s - loss: 0.2515\n",
      "Epoch 6/40\n",
      " - 0s - loss: 0.2340\n",
      "Epoch 7/40\n",
      " - 0s - loss: 0.2205\n",
      "Epoch 8/40\n",
      " - 0s - loss: 0.2280\n",
      "Epoch 9/40\n",
      " - 1s - loss: 0.2022\n",
      "Epoch 10/40\n",
      " - 1s - loss: 0.1906\n",
      "Epoch 11/40\n",
      " - 0s - loss: 0.1836\n",
      "Epoch 12/40\n",
      " - 0s - loss: 0.1746\n",
      "Epoch 13/40\n",
      " - 0s - loss: 0.1678\n",
      "Epoch 14/40\n",
      " - 0s - loss: 0.1746\n",
      "Epoch 15/40\n",
      " - 0s - loss: 0.1741\n",
      "Epoch 16/40\n",
      " - 0s - loss: 0.1598\n",
      "Epoch 17/40\n",
      " - 0s - loss: 0.1629\n",
      "Epoch 18/40\n",
      " - 0s - loss: 0.1593\n",
      "Epoch 19/40\n",
      " - 1s - loss: 0.1663\n",
      "Epoch 20/40\n",
      " - 1s - loss: 0.1419\n",
      "Epoch 21/40\n",
      " - 1s - loss: 0.1364\n",
      "Epoch 22/40\n",
      " - 0s - loss: 0.1407\n",
      "Epoch 23/40\n",
      " - 1s - loss: 0.1293\n",
      "Epoch 24/40\n",
      " - 0s - loss: 0.1341\n",
      "Epoch 25/40\n",
      " - 0s - loss: 0.1436\n",
      "Epoch 26/40\n",
      " - 0s - loss: 0.1277\n",
      "Epoch 27/40\n",
      " - 1s - loss: 0.1236\n",
      "Epoch 28/40\n",
      " - 1s - loss: 0.1343\n",
      "Epoch 29/40\n",
      " - 0s - loss: 0.1361\n",
      "Epoch 30/40\n",
      " - 1s - loss: 0.1381\n",
      "Epoch 31/40\n",
      " - 1s - loss: 0.1190\n",
      "Epoch 32/40\n",
      " - 0s - loss: 0.1117\n",
      "Epoch 33/40\n",
      " - 1s - loss: 0.1129\n",
      "Epoch 34/40\n",
      " - 1s - loss: 0.1105\n",
      "Epoch 35/40\n",
      " - 0s - loss: 0.1113\n",
      "Epoch 36/40\n",
      " - 1s - loss: 0.1134\n",
      "Epoch 37/40\n",
      " - 0s - loss: 0.1056\n",
      "Epoch 38/40\n",
      " - 1s - loss: 0.1337\n",
      "Epoch 39/40\n",
      " - 1s - loss: 0.1098\n",
      "Epoch 40/40\n",
      " - 0s - loss: 0.1092\n"
     ]
    },
    {
     "data": {
      "text/plain": [
       "<keras.callbacks.History at 0x7f1583f98f90>"
      ]
     },
     "execution_count": 71,
     "metadata": {},
     "output_type": "execute_result"
    }
   ],
   "source": [
    "tsrnnmodel.fit(train_t_s_x, train_t_s_angles, epochs = 40, batch_size = 10, verbose = 2)"
   ]
  },
  {
   "cell_type": "code",
   "execution_count": 72,
   "metadata": {},
   "outputs": [
    {
     "data": {
      "image/png": "[encoded data removed]",
      "text/plain": [
       "<Figure size 432x288 with 1 Axes>"
      ]
     },
     "metadata": {},
     "output_type": "display_data"
    }
   ],
   "source": [
    "# ------------------------------------------------------\n",
    "# Produce result.\n",
    "# The result is bad but not too bad.\n",
    "# At least it has a good 'trend' (although sonewhere it does definitely wrong prediction.) \n",
    "# THINK about the problem of (up-trend angle and down-trend angle)?\n",
    "# ------------------------------------------------------\n",
    "test_prediction = tsrnnmodel.predict(test_t_s_x)\n",
    "test_prediction = test_prediction.reshape(39)\n",
    "time_test = np.zeros(39)\n",
    "\n",
    "for i in range(0, 39):\n",
    "    time_test[i] = float(i)/2048*240\n",
    "\n",
    "time_test = time_test[0:39]\n",
    "test_prediction = test_prediction[0:39]\n",
    "\n",
    "plt.plot(time_test, test_prediction, time_test, test_t_s_angles[0:39])\n",
    "plt.show()"
   ]
  },
  {
   "cell_type": "code",
   "execution_count": null,
   "metadata": {},
   "outputs": [],
   "source": []
  }
 ],
 "metadata": {
  "kernelspec": {
   "display_name": "Python 3",
   "language": "python",
   "name": "python3"
  },
  "language_info": {
   "codemirror_mode": {
    "name": "ipython",
    "version": 2
   },
   "file_extension": ".py",
   "mimetype": "text/x-python",
   "name": "python",
   "nbconvert_exporter": "python",
   "pygments_lexer": "ipython2",
   "version": "2.7.14"
  }
 },
 "nbformat": 4,
 "nbformat_minor": 2
}
