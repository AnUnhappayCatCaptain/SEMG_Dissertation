{
 "cells": [
  {
   "cell_type": "code",
   "execution_count": 1,
   "metadata": {},
   "outputs": [
    {
     "name": "stderr",
     "output_type": "stream",
     "text": [
      "/home/mlvm2/anaconda2/lib/python2.7/site-packages/h5py/__init__.py:36: FutureWarning: Conversion of the second argument of issubdtype from `float` to `np.floating` is deprecated. In future, it will be treated as `np.float64 == np.dtype(float).type`.\n",
      "  from ._conv import register_converters as _register_converters\n",
      "Using TensorFlow backend.\n"
     ]
    }
   ],
   "source": [
    "# -------------------------------------------------\n",
    "# Initial import.\n",
    "# -------------------------------------------------\n",
    "\n",
    "import numpy as np\n",
    "import matplotlib,pylab as plt\n",
    "import tensorflow as tf\n",
    "import os\n",
    "import keras\n",
    "from scipy.io import loadmat \n",
    "\n",
    "from keras.layers import Input, Dense, Activation, Embedding, LSTM, Flatten\n",
    "\n",
    "from keras.models import Model, Sequential\n",
    "from keras.utils import np_utils\n"
   ]
  },
  {
   "cell_type": "code",
   "execution_count": 2,
   "metadata": {
    "scrolled": true
   },
   "outputs": [],
   "source": [
    "# --------------------------------------------------\n",
    "# PATH of where data saved.\n",
    "# Create Data list, wait for processing.\n",
    "# --------------------------------------------------\n",
    "\n",
    "PATH = \"/home/mlvm2/dissertation/My_programme/dissertation_data\"\n",
    "Data_list = list(os.path.join(PATH, name) for name in os.listdir(PATH))\n"
   ]
  },
  {
   "cell_type": "code",
   "execution_count": 3,
   "metadata": {},
   "outputs": [],
   "source": [
    "# --------------------------------------------------\n",
    "# Average Abs Feature Extraction Function.\n",
    "# --------------------------------------------------\n",
    "def avg_abs_extract(data_path):\n",
    "    \n",
    "    # load data first.\n",
    "    dataset = loadmat(data_path)\n",
    "    \n",
    "    signals = dataset['emg'][0:125]\n",
    "    \n",
    "    # first ensure how many row samples inthe data should be cut. \n",
    "    cut_num = len(signals[0])%40\n",
    "    #print(cut_num)\n",
    "    \n",
    "    # cut signal.\n",
    "    cut_signals = signals.copy()\n",
    "    for i in range(0, cut_num):\n",
    "        cut_signals = np.delete(cut_signals, len(cut_signals[0]) - 1, axis = 1)\n",
    "    signal_process1 = np.zeros(shape = [cut_signals.shape[0], int(cut_signals.shape[1] / 10)])\n",
    "    #print(cut_signals.shape)\n",
    "    \n",
    "    # extract abs features.\n",
    "    for channels in range(0, cut_signals.shape[0]):\n",
    "        process1 = np.zeros(int(cut_signals.shape[1] / 10))\n",
    "        for i in range(0, int(cut_signals.shape[1])/ 10):\n",
    "            for j in range(0, 10):\n",
    "                process1[i] = process1[i] + abs(cut_signals[channels, 10 * i + j])\n",
    "            process1[i] = process1[i] / 10\n",
    "        for i in range(0, int(cut_signals.shape[1] / 10)):\n",
    "            signal_process1[channels][i] = process1[i]\n",
    "    \n",
    "    signal_process2 = np.zeros(shape = [125, len(process1)/4, 4])\n",
    "    for channel in range(0,125):\n",
    "        for i in range(0, len(process1)/4):\n",
    "            for j in range(0,4):\n",
    "                signal_process2[channel, i, j] = signal_process1[channel, i*4+j]\n",
    "    \n",
    "    signal_input  = signal_process2.copy()\n",
    "    signal_input_final = np.zeros(shape = [len(process1)/4, 125, 4])\n",
    "    for i in range(0, len(process1)/4):\n",
    "        for j in range(0, 125):\n",
    "            for k in range(0, 4):\n",
    "                signal_input_final[i,j,k] = signal_input[j,i,k]\n",
    "    #print(signal_input_final.shape)\n",
    "                \n",
    "    cut_num2 = (len(process1)/4) % 10\n",
    "    for i in range(0, cut_num2):\n",
    "        signal_input_final = np.delete(signal_input_final, signal_input_final.shape[0] - 1, axis = 0)\n",
    "    signal_input_final = signal_input_final.reshape(((len(process1)/4) - cut_num2)/10, 10, 125*4)\n",
    "                    \n",
    "    return signal_input_final\n"
   ]
  },
  {
   "cell_type": "code",
   "execution_count": 4,
   "metadata": {},
   "outputs": [],
   "source": [
    "def label_extract(data_path):\n",
    "    \n",
    "    dataset = loadmat(data_path)\n",
    "    \n",
    "    labels = dataset['glove'][0]\n",
    "\n",
    "    cut_num = len(labels)%40\n",
    "    \n",
    "    for i in range(0, cut_num):\n",
    "        cut_labels = np.delete(labels, len(labels) - 1)\n",
    "\n",
    "    labels_process1 = np.zeros(int(len(cut_labels)/40))\n",
    "\n",
    "    for i in range(int(len(cut_labels)/40)):\n",
    "        labels_process1[i] = labels[i*40]\n",
    "    \n",
    "    cut_num2 = len(labels_process1)%10\n",
    "    for i in range(0, cut_num2):\n",
    "        labels_process1 = np.delete(labels_process1, len(labels_process1) - 1)\n",
    "    \n",
    "    labels_process2 = np.zeros(int(len(labels_process1)/10))\n",
    "    \n",
    "    for i in range(int(len(labels_process1)/10)):\n",
    "        labels_process2[i] = labels_process1[i*10]\n",
    "    \n",
    "    return labels_process2"
   ]
  },
  {
   "cell_type": "code",
   "execution_count": 16,
   "metadata": {},
   "outputs": [],
   "source": [
    "i = 9\n",
    "signal = avg_abs_extract(Data_list[i])\n",
    "label = label_extract(Data_list[i])\n",
    "np.save(\"t_s_signal_9_10input\", signal)\n",
    "np.save(\"t_s_label_9_10input\",label)"
   ]
  },
  {
   "cell_type": "code",
   "execution_count": null,
   "metadata": {},
   "outputs": [],
   "source": []
  }
 ],
 "metadata": {
  "kernelspec": {
   "display_name": "Python 3",
   "language": "python",
   "name": "python3"
  },
  "language_info": {
   "codemirror_mode": {
    "name": "ipython",
    "version": 2
   },
   "file_extension": ".py",
   "mimetype": "text/x-python",
   "name": "python",
   "nbconvert_exporter": "python",
   "pygments_lexer": "ipython2",
   "version": "2.7.14"
  }
 },
 "nbformat": 4,
 "nbformat_minor": 2
}
